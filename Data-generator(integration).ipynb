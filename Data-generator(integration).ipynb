{
  "cells": [
    {
      "cell_type": "code",
      "execution_count": null,
      "metadata": {
        "colab": {
          "base_uri": "https://localhost:8080/",
          "height": 527
        },
        "id": "o-Ie6yafFiwE",
        "outputId": "0df4475f-39a7-4daf-abfe-d5267d1c2892"
      },
      "outputs": [],
      "source": [
        "import numpy as np\n",
        "import pandas as pd\n",
        "\n",
        "# Set a random seed for reproducibility\n",
        "np.random.seed(42)\n",
        "\n",
        "# Number of data points (customer visits)\n",
        "n_samples = 10000\n",
        "\n",
        "# Generate random features for customer data\n",
        "day_of_week = np.random.randint(1, 8, n_samples)  # Random day of the week (1 to 7)\n",
        "time_of_day = np.random.uniform(0, 24, n_samples)  # Random time of day (0 to 24 hours)\n",
        "duration_of_visit = np.random.uniform(5, 180, n_samples)  # Random visit duration (5 to 180 minutes)\n",
        "number_of_items_bought = np.random.randint(1, 20, n_samples)  # Random number of items bought (1 to 20)\n",
        "total_purchase_amount = np.random.uniform(10, 500, n_samples)  # Random total purchase amount\n",
        "\n",
        "# Create a DataFrame to store the data\n",
        "data = pd.DataFrame({\n",
        "    'Day_of_Week': day_of_week,\n",
        "    'Time_of_Day': time_of_day,\n",
        "    'Duration_of_Visit': duration_of_visit,\n",
        "    'Number_of_Items_Bought': number_of_items_bought,\n",
        "    'Total_Purchase_Amount': total_purchase_amount\n",
        "})\n",
        "\n",
        "# Save the generated dataset to a CSV file\n",
        "data.to_csv('customer_behavior_dataset.csv', index=False)\n"
      ]
    }
  ],
  "metadata": {
    "colab": {
      "provenance": []
    },
    "kernelspec": {
      "display_name": "Python 3",
      "name": "python3"
    },
    "language_info": {
      "name": "python"
    }
  },
  "nbformat": 4,
  "nbformat_minor": 0
}
