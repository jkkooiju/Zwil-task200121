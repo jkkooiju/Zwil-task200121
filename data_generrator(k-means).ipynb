{
  "cells": [
    {
      "cell_type": "code",
      "execution_count": null,
      "metadata": {
        "colab": {
          "base_uri": "https://localhost:8080/",
          "height": 527
        },
        "id": "o-Ie6yafFiwE",
        "outputId": "0df4475f-39a7-4daf-abfe-d5267d1c2892"
      },
      "outputs": [],
      "source": [
        "import numpy as np\n",
        "import pandas as pd\n",
        "\n",
        "# Set a random seed for reproducibility\n",
        "np.random.seed(42)\n",
        "\n",
        "# Number of data points (customers)\n",
        "n_samples = 10000\n",
        "\n",
        "# Generate random features for customer data\n",
        "purchase_frequency = np.random.uniform(1, 20, n_samples)  # Random purchase frequencies\n",
        "average_purchase_amount = np.random.uniform(10, 500, n_samples)  # Random purchase amounts\n",
        "product_category_preferences = np.random.choice(['Electronics', 'Clothing', 'Books', 'Home Decor'], size=n_samples)\n",
        "\n",
        "# Create a DataFrame to store the data\n",
        "data = pd.DataFrame({\n",
        "    'Purchase_Frequency': purchase_frequency,\n",
        "    'Average_Purchase_Amount': average_purchase_amount,\n",
        "    'Product_Category_Preference': product_category_preferences\n",
        "})\n",
        "\n",
        "# Save the generated dataset to a CSV file\n",
        "data.to_csv('customer_segmentation_dataset.csv', index=False)\n"
      ]
    }
  ],
  "metadata": {
    "colab": {
      "provenance": []
    },
    "kernelspec": {
      "display_name": "Python 3",
      "name": "python3"
    },
    "language_info": {
      "name": "python"
    }
  },
  "nbformat": 4,
  "nbformat_minor": 0
}
