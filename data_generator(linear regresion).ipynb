{
 "cells": [
  {
   "cell_type": "code",
   "execution_count": null,
   "metadata": {},
   "outputs": [],
   "source": [
    "import random\n",
    "import pandas as pd\n",
    "\n",
    "# Set a random seed for reproducibility\n",
    "random.seed(42)\n",
    "\n",
    "# Create an empty DataFrame to store the data\n",
    "data = pd.DataFrame(columns=[\"Size (sq. ft.)\", \"Bedrooms\", \"Bathrooms\", \"Age (years)\", \n",
    "                             \"Distance to School (miles)\", \"Distance to Public Transportation (miles)\",\n",
    "                             \"Crime Rate\", \"Selling Price ($)\"])\n",
    "\n",
    "# Generate 1000 random examples\n",
    "for _ in range(1000):\n",
    "    size = random.randint(1000, 3500)  # Size between 1000 and 3500 sq. ft.\n",
    "    bedrooms = random.randint(2, 5)   # Number of bedrooms (2 to 5)\n",
    "    bathrooms = random.uniform(1.0, 4.0)  # Number of bathrooms (1.0 to 4.0)\n",
    "    age = random.randint(1, 30)        # Age of the house (1 to 30 years)\n",
    "    school_distance = random.uniform(0.1, 2.0)  # Distance to school (0.1 to 2.0 miles)\n",
    "    transport_distance = random.uniform(0.1, 1.5)  # Distance to public transport (0.1 to 1.5 miles)\n",
    "    crime_rate = random.uniform(0.01, 0.05)  # Crime rate (0.01 to 0.05)\n",
    "    \n",
    "    # Generate a hypothetical selling price based on the features (you can adjust this)\n",
    "    # This is a simple linear combination of features with some random noise.\n",
    "    price = 100000 + 150 * size + 30000 * bedrooms + 25000 * bathrooms - 500 * age - 20000 * school_distance - 15000 * transport_distance - 50000 * crime_rate + random.randint(-20000, 20000)\n",
    "    \n",
    "    data = data.append({\n",
    "        \"Size (sq. ft.)\": size,\n",
    "        \"Bedrooms\": bedrooms,\n",
    "        \"Bathrooms\": bathrooms,\n",
    "        \"Age (years)\": age,\n",
    "        \"Distance to School (miles)\": school_distance,\n",
    "        \"Distance to Public Transportation (miles)\": transport_distance,\n",
    "        \"Crime Rate\": crime_rate,\n",
    "        \"Selling Price ($)\": price\n",
    "    }, ignore_index=True)\n",
    "\n",
    "# Save the generated dataset to a CSV file\n",
    "data.to_csv(\"house_price_dataset.csv\", index=False)\n"
   ]
  },
  {
   "cell_type": "code",
   "execution_count": null,
   "metadata": {},
   "outputs": [],
   "source": []
  }
 ],
 "metadata": {
  "language_info": {
   "name": "python"
  },
  "orig_nbformat": 4
 },
 "nbformat": 4,
 "nbformat_minor": 2
}
